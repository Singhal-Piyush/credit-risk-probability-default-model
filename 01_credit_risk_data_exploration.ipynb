{
 "cells": [
  {
   "cell_type": "markdown",
   "id": "6ad2bb95",
   "metadata": {},
   "source": [
    "# Credit Risk Probability of Default - Data Exploration"
   ]
  },
  {
   "cell_type": "code",
   "execution_count": 1,
   "id": "5906a702",
   "metadata": {},
   "outputs": [],
   "source": [
    "# importing libraries and packages\n",
    "import pandas as pd"
   ]
  },
  {
   "cell_type": "code",
   "execution_count": 2,
   "id": "a02c0c36",
   "metadata": {},
   "outputs": [
    {
     "name": "stderr",
     "output_type": "stream",
     "text": [
      "C:\\Users\\Piyush\\AppData\\Local\\Temp\\ipykernel_10808\\2745060242.py:1: DtypeWarning: Columns (19,47,55,112,123,124,125,128,129,130,133,139,140,141) have mixed types. Specify dtype option on import or set low_memory=False.\n",
      "  dataset = pd.read_csv('./data/raw/Lending_Club_Loan_Data.csv')\n"
     ]
    }
   ],
   "source": [
    "dataset = pd.read_csv('./data/raw/Lending_Club_Loan_Data.csv')"
   ]
  },
  {
   "cell_type": "code",
   "execution_count": null,
   "id": "deb7353b",
   "metadata": {},
   "outputs": [],
   "source": [
    "dataset.to_csv('./data/raw/loan_dataset.csv.gz',index = False, compression = 'gzip')"
   ]
  }
 ],
 "metadata": {
  "kernelspec": {
   "display_name": "Python 3 (ipykernel)",
   "language": "python",
   "name": "python3"
  },
  "language_info": {
   "codemirror_mode": {
    "name": "ipython",
    "version": 3
   },
   "file_extension": ".py",
   "mimetype": "text/x-python",
   "name": "python",
   "nbconvert_exporter": "python",
   "pygments_lexer": "ipython3",
   "version": "3.10.9"
  }
 },
 "nbformat": 4,
 "nbformat_minor": 5
}
